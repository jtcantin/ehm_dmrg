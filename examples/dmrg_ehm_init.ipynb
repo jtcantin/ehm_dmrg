{
 "cells": [
  {
   "cell_type": "code",
   "execution_count": 1,
   "metadata": {},
   "outputs": [],
   "source": [
    "import ehm_dmrg.ehm_dmrg as ehm\n",
    "import ehm_dmrg\n",
    "import pandas as pd\n",
    "from pathlib import Path\n",
    "import importlib\n",
    "\n"
   ]
  },
  {
   "cell_type": "code",
   "execution_count": 2,
   "metadata": {},
   "outputs": [],
   "source": [
    "calc_resistance_matrix_properties = True\n",
    "fcidump_location = \"/mnt/d/ZapataCalcs/GSEE/fcidumps_catalysts\"\n",
    "\n",
    "\n",
    "fcidump_files =[\"fcidump.2_co2_6-311++G__\",\"fcidump.36_1ru_II_2pl_{'default' _ '6-31+G(d,p)', 'Ru' _ 'lanl2tz' }\"]"
   ]
  },
  {
   "cell_type": "code",
   "execution_count": 3,
   "metadata": {},
   "outputs": [
    {
     "name": "stdout",
     "output_type": "stream",
     "text": [
      "/mnt/d/ZapataCalcs/GSEE/fcidumps_catalysts/fcidump.2_co2_6-311++G__\n",
      "Parsing /mnt/d/ZapataCalcs/GSEE/fcidumps_catalysts/fcidump.2_co2_6-311++G__\n",
      "one_body_tensor.shape (6, 6)\n",
      "two_body_tensor.shape (6, 6, 6, 6)\n",
      "{'num_orbitals': 6, 'num_electrons': 8, 'num_spin_orbitals': 12, 'two_S': 0, 'orbsym': [0, 0, 0, 0, 0, 0], 'isym': 1}\n",
      "one_body_tensor.shape (6, 6)\n",
      "two_body_tensor.shape (6, 6, 6, 6)\n",
      "one_body_tensor.shape (6, 6)\n",
      "two_body_tensor.shape (6, 6, 6, 6)\n",
      "one_and_two_body_tensor.shape (6, 6, 6, 6)\n",
      "num_orbitals 6\n",
      "num_electrons 8\n",
      "Coulomb matrix calculation time: 1.3982e-05\n",
      "Exchange matrix calculation time: 1.0931e-05\n",
      "Mean field matrix calculation time: 2.1937e-05\n",
      "Generated tbt matrices, time: 0.000137948\n",
      "Bandwidth calculation time: 7.5325e-05\n",
      "Coulomb matrix features calculated\n",
      "Coulomb matrix calculation time: 0.064895952\n",
      "Exchange matrix features calculated\n",
      "Exchange matrix calculation time: 0.010310897\n",
      "tbt_graph_mapping_calc_time_s 0.001676299\n",
      "tbt_abs_graph_mapping features calculated\n",
      "tbt_abs_graph_mapping_calc_time_s 0.052618797\n"
     ]
    },
    {
     "ename": "KeyboardInterrupt",
     "evalue": "",
     "output_type": "error",
     "traceback": [
      "\u001b[0;31m---------------------------------------------------------------------------\u001b[0m",
      "\u001b[0;31mKeyboardInterrupt\u001b[0m                         Traceback (most recent call last)",
      "Cell \u001b[0;32mIn[3], line 10\u001b[0m\n\u001b[1;32m      8\u001b[0m fcidump_filepath \u001b[38;5;241m=\u001b[39m fcidump_location \u001b[38;5;241m/\u001b[39m Path(fcidump_file)\n\u001b[1;32m      9\u001b[0m \u001b[38;5;28mprint\u001b[39m(fcidump_filepath)\n\u001b[0;32m---> 10\u001b[0m dmrg_features_one_molecule \u001b[38;5;241m=\u001b[39m \u001b[43mehm\u001b[49m\u001b[38;5;241;43m.\u001b[39;49m\u001b[43mdmrg_features_from_fcidump\u001b[49m\u001b[43m(\u001b[49m\n\u001b[1;32m     11\u001b[0m \u001b[43m    \u001b[49m\u001b[43mfcidump_filepath\u001b[49m\u001b[38;5;241;43m=\u001b[39;49m\u001b[43mfcidump_filepath\u001b[49m\u001b[43m,\u001b[49m\n\u001b[1;32m     12\u001b[0m \u001b[43m    \u001b[49m\u001b[43mMOLPRO_ORBSYM\u001b[49m\u001b[38;5;241;43m=\u001b[39;49m\u001b[38;5;28;43;01mTrue\u001b[39;49;00m\u001b[43m,\u001b[49m\n\u001b[1;32m     13\u001b[0m \u001b[43m    \u001b[49m\u001b[43mcalc_resistance_matrix_properties\u001b[49m\u001b[38;5;241;43m=\u001b[39;49m\u001b[43mcalc_resistance_matrix_properties\u001b[49m\u001b[43m,\u001b[49m\n\u001b[1;32m     14\u001b[0m \u001b[43m    \u001b[49m\u001b[43mverbosity\u001b[49m\u001b[38;5;241;43m=\u001b[39;49m\u001b[38;5;241;43m2\u001b[39;49m\u001b[43m,\u001b[49m\n\u001b[1;32m     15\u001b[0m \u001b[43m\u001b[49m\u001b[43m)\u001b[49m\n\u001b[1;32m     16\u001b[0m \u001b[38;5;28mprint\u001b[39m(dmrg_features_one_molecule)\n",
      "File \u001b[0;32m~/utoronto/ehm_dmrg/ehm_dmrg/src/ehm_dmrg/ehm_dmrg.py:47\u001b[0m, in \u001b[0;36mdmrg_features_from_fcidump\u001b[0;34m(fcidump_filepath, MOLPRO_ORBSYM, calc_resistance_matrix_properties, verbosity)\u001b[0m\n\u001b[1;32m     37\u001b[0m feature_dict \u001b[38;5;241m=\u001b[39m {\n\u001b[1;32m     38\u001b[0m     \u001b[38;5;124m\"\u001b[39m\u001b[38;5;124mnum_orbitals\u001b[39m\u001b[38;5;124m\"\u001b[39m: num_orbitals,\n\u001b[1;32m     39\u001b[0m     \u001b[38;5;124m\"\u001b[39m\u001b[38;5;124mnum_electrons\u001b[39m\u001b[38;5;124m\"\u001b[39m: num_electrons,\n\u001b[0;32m   (...)\u001b[0m\n\u001b[1;32m     43\u001b[0m     \u001b[38;5;124m\"\u001b[39m\u001b[38;5;124misym\u001b[39m\u001b[38;5;124m\"\u001b[39m: isym,\n\u001b[1;32m     44\u001b[0m }\n\u001b[1;32m     45\u001b[0m \u001b[38;5;28mprint\u001b[39m(feature_dict)\n\u001b[0;32m---> 47\u001b[0m tensors_features_dict \u001b[38;5;241m=\u001b[39m \u001b[43mdmrg_features\u001b[49m\u001b[38;5;241;43m.\u001b[39;49m\u001b[43mget_dmrg_features\u001b[49m\u001b[43m(\u001b[49m\n\u001b[1;32m     48\u001b[0m \u001b[43m    \u001b[49m\u001b[43mone_body_tensor\u001b[49m\u001b[38;5;241;43m=\u001b[39;49m\u001b[43mone_body_tensor\u001b[49m\u001b[43m,\u001b[49m\n\u001b[1;32m     49\u001b[0m \u001b[43m    \u001b[49m\u001b[43mtwo_body_tensor\u001b[49m\u001b[38;5;241;43m=\u001b[39;49m\u001b[43mtwo_body_tensor\u001b[49m\u001b[43m,\u001b[49m\n\u001b[1;32m     50\u001b[0m \u001b[43m    \u001b[49m\u001b[43mnum_electrons\u001b[49m\u001b[38;5;241;43m=\u001b[39;49m\u001b[43mnum_electrons\u001b[49m\u001b[43m,\u001b[49m\n\u001b[1;32m     51\u001b[0m \u001b[43m    \u001b[49m\u001b[38;5;66;43;03m# spin_orbitals_bool=True,\u001b[39;49;00m\n\u001b[1;32m     52\u001b[0m \u001b[43m    \u001b[49m\u001b[38;5;66;43;03m# tbt_one_half_convention=True,\u001b[39;49;00m\n\u001b[1;32m     53\u001b[0m \u001b[43m    \u001b[49m\u001b[43mcalc_resistance_matrix_properties\u001b[49m\u001b[38;5;241;43m=\u001b[39;49m\u001b[43mcalc_resistance_matrix_properties\u001b[49m\u001b[43m,\u001b[49m\n\u001b[1;32m     54\u001b[0m \u001b[43m\u001b[49m\u001b[43m)\u001b[49m\n\u001b[1;32m     56\u001b[0m feature_dict\u001b[38;5;241m.\u001b[39mupdate(tensors_features_dict)\n\u001b[1;32m     58\u001b[0m \u001b[38;5;28;01mreturn\u001b[39;00m feature_dict\n",
      "File \u001b[0;32m~/utoronto/ehm_dmrg/ehm_dmrg/src/ehm_dmrg/dmrg_features.py:238\u001b[0m, in \u001b[0;36mget_dmrg_features\u001b[0;34m(one_body_tensor, two_body_tensor, num_electrons, calc_resistance_matrix_properties)\u001b[0m\n\u001b[1;32m    236\u001b[0m \u001b[38;5;66;03m# Various properties of one-body tensor\u001b[39;00m\n\u001b[1;32m    237\u001b[0m one_body_tensor_start \u001b[38;5;241m=\u001b[39m time\u001b[38;5;241m.\u001b[39mprocess_time_ns()\n\u001b[0;32m--> 238\u001b[0m new_feature_dict \u001b[38;5;241m=\u001b[39m \u001b[43mgm\u001b[49m\u001b[38;5;241;43m.\u001b[39;49m\u001b[43mget_graph_properties_from_matrix\u001b[49m\u001b[43m(\u001b[49m\n\u001b[1;32m    239\u001b[0m \u001b[43m    \u001b[49m\u001b[43mmatrix\u001b[49m\u001b[38;5;241;43m=\u001b[39;49m\u001b[43mone_body_tensor\u001b[49m\u001b[43m,\u001b[49m\n\u001b[1;32m    240\u001b[0m \u001b[43m    \u001b[49m\u001b[43mfeature_prefix\u001b[49m\u001b[38;5;241;43m=\u001b[39;49m\u001b[38;5;124;43m\"\u001b[39;49m\u001b[38;5;124;43mone_body_tensor_\u001b[39;49m\u001b[38;5;124;43m\"\u001b[39;49m\u001b[43m,\u001b[49m\n\u001b[1;32m    241\u001b[0m \u001b[43m    \u001b[49m\u001b[43mcalc_resistance_matrix_properties\u001b[49m\u001b[38;5;241;43m=\u001b[39;49m\u001b[43mcalc_resistance_matrix_properties\u001b[49m\u001b[43m,\u001b[49m\n\u001b[1;32m    242\u001b[0m \u001b[43m\u001b[49m\u001b[43m)\u001b[49m\n\u001b[1;32m    244\u001b[0m feature_dict\u001b[38;5;241m.\u001b[39mupdate(new_feature_dict)\n\u001b[1;32m    246\u001b[0m obt_bandwidths \u001b[38;5;241m=\u001b[39m spla\u001b[38;5;241m.\u001b[39mbandwidth(one_body_tensor)\n",
      "File \u001b[0;32m~/utoronto/ehm_dmrg/ehm_dmrg/src/ehm_dmrg/graph_mapping.py:221\u001b[0m, in \u001b[0;36mget_graph_properties_from_matrix\u001b[0;34m(matrix, feature_prefix, calc_resistance_matrix_properties)\u001b[0m\n\u001b[1;32m    218\u001b[0m edgeCount \u001b[38;5;241m=\u001b[39m G\u001b[38;5;241m.\u001b[39mnumber_of_edges()\n\u001b[1;32m    220\u001b[0m start \u001b[38;5;241m=\u001b[39m time\u001b[38;5;241m.\u001b[39mprocess_time_ns()  \u001b[38;5;66;03m#\u001b[39;00m\n\u001b[0;32m--> 221\u001b[0m algebraic_connectivity \u001b[38;5;241m=\u001b[39m \u001b[43mnx\u001b[49m\u001b[38;5;241;43m.\u001b[39;49m\u001b[43malgebraic_connectivity\u001b[49m\u001b[43m(\u001b[49m\u001b[43mG\u001b[49m\u001b[43m)\u001b[49m\n\u001b[1;32m    222\u001b[0m stop \u001b[38;5;241m=\u001b[39m time\u001b[38;5;241m.\u001b[39mprocess_time_ns()  \u001b[38;5;66;03m#\u001b[39;00m\n\u001b[1;32m    223\u001b[0m algebraic_connectivity_calc_time_s \u001b[38;5;241m=\u001b[39m (stop \u001b[38;5;241m-\u001b[39m start) \u001b[38;5;241m/\u001b[39m \u001b[38;5;241m1e9\u001b[39m  \u001b[38;5;66;03m#\u001b[39;00m\n",
      "File \u001b[0;32m<class 'networkx.utils.decorators.argmap'> compilation 18:5\u001b[0m, in \u001b[0;36margmap_algebraic_connectivity_13\u001b[0;34m(G, weight, normalized, tol, method, seed, backend, **backend_kwargs)\u001b[0m\n\u001b[1;32m      3\u001b[0m \u001b[38;5;28;01mimport\u001b[39;00m \u001b[38;5;21;01mgzip\u001b[39;00m\n\u001b[1;32m      4\u001b[0m \u001b[38;5;28;01mimport\u001b[39;00m \u001b[38;5;21;01minspect\u001b[39;00m\n\u001b[0;32m----> 5\u001b[0m \u001b[38;5;28;01mimport\u001b[39;00m \u001b[38;5;21;01mitertools\u001b[39;00m\n\u001b[1;32m      6\u001b[0m \u001b[38;5;28;01mimport\u001b[39;00m \u001b[38;5;21;01mre\u001b[39;00m\n\u001b[1;32m      7\u001b[0m \u001b[38;5;28;01mimport\u001b[39;00m \u001b[38;5;21;01mwarnings\u001b[39;00m\n",
      "File \u001b[0;32m~/utoronto/ehm_dmrg/ehm_dmrg/env_ehm_dmrg/lib/python3.10/site-packages/networkx/utils/backends.py:633\u001b[0m, in \u001b[0;36m_dispatchable.__call__\u001b[0;34m(self, backend, *args, **kwargs)\u001b[0m\n\u001b[1;32m    628\u001b[0m \u001b[38;5;250m\u001b[39m\u001b[38;5;124;03m\"\"\"Returns the result of the original function, or the backend function if\u001b[39;00m\n\u001b[1;32m    629\u001b[0m \u001b[38;5;124;03mthe backend is specified and that backend implements `func`.\"\"\"\u001b[39;00m\n\u001b[1;32m    631\u001b[0m \u001b[38;5;28;01mif\u001b[39;00m \u001b[38;5;129;01mnot\u001b[39;00m backends:\n\u001b[1;32m    632\u001b[0m     \u001b[38;5;66;03m# Fast path if no backends are installed\u001b[39;00m\n\u001b[0;32m--> 633\u001b[0m     \u001b[38;5;28;01mreturn\u001b[39;00m \u001b[38;5;28;43mself\u001b[39;49m\u001b[38;5;241;43m.\u001b[39;49m\u001b[43morig_func\u001b[49m\u001b[43m(\u001b[49m\u001b[38;5;241;43m*\u001b[39;49m\u001b[43margs\u001b[49m\u001b[43m,\u001b[49m\u001b[43m \u001b[49m\u001b[38;5;241;43m*\u001b[39;49m\u001b[38;5;241;43m*\u001b[39;49m\u001b[43mkwargs\u001b[49m\u001b[43m)\u001b[49m\n\u001b[1;32m    635\u001b[0m \u001b[38;5;66;03m# Use `backend_name` in this function instead of `backend`\u001b[39;00m\n\u001b[1;32m    636\u001b[0m backend_name \u001b[38;5;241m=\u001b[39m backend\n",
      "File \u001b[0;32m~/utoronto/ehm_dmrg/ehm_dmrg/env_ehm_dmrg/lib/python3.10/site-packages/networkx/linalg/algebraicconnectivity.py:405\u001b[0m, in \u001b[0;36malgebraic_connectivity\u001b[0;34m(G, weight, normalized, tol, method, seed)\u001b[0m\n\u001b[1;32m    403\u001b[0m find_fiedler \u001b[38;5;241m=\u001b[39m _get_fiedler_func(method)\n\u001b[1;32m    404\u001b[0m x \u001b[38;5;241m=\u001b[39m \u001b[38;5;28;01mNone\u001b[39;00m \u001b[38;5;28;01mif\u001b[39;00m method \u001b[38;5;241m!=\u001b[39m \u001b[38;5;124m\"\u001b[39m\u001b[38;5;124mlobpcg\u001b[39m\u001b[38;5;124m\"\u001b[39m \u001b[38;5;28;01melse\u001b[39;00m _rcm_estimate(G, G)\n\u001b[0;32m--> 405\u001b[0m sigma, fiedler \u001b[38;5;241m=\u001b[39m \u001b[43mfind_fiedler\u001b[49m\u001b[43m(\u001b[49m\u001b[43mL\u001b[49m\u001b[43m,\u001b[49m\u001b[43m \u001b[49m\u001b[43mx\u001b[49m\u001b[43m,\u001b[49m\u001b[43m \u001b[49m\u001b[43mnormalized\u001b[49m\u001b[43m,\u001b[49m\u001b[43m \u001b[49m\u001b[43mtol\u001b[49m\u001b[43m,\u001b[49m\u001b[43m \u001b[49m\u001b[43mseed\u001b[49m\u001b[43m)\u001b[49m\n\u001b[1;32m    406\u001b[0m \u001b[38;5;28;01mreturn\u001b[39;00m \u001b[38;5;28mfloat\u001b[39m(sigma)\n",
      "File \u001b[0;32m~/utoronto/ehm_dmrg/ehm_dmrg/env_ehm_dmrg/lib/python3.10/site-packages/networkx/linalg/algebraicconnectivity.py:269\u001b[0m, in \u001b[0;36m_get_fiedler_func.<locals>.find_fiedler\u001b[0;34m(L, x, normalized, tol, seed)\u001b[0m\n\u001b[1;32m    267\u001b[0m q \u001b[38;5;241m=\u001b[39m \u001b[38;5;241m1\u001b[39m \u001b[38;5;28;01mif\u001b[39;00m method \u001b[38;5;241m==\u001b[39m \u001b[38;5;124m\"\u001b[39m\u001b[38;5;124mtracemin_pcg\u001b[39m\u001b[38;5;124m\"\u001b[39m \u001b[38;5;28;01melse\u001b[39;00m \u001b[38;5;28mmin\u001b[39m(\u001b[38;5;241m4\u001b[39m, L\u001b[38;5;241m.\u001b[39mshape[\u001b[38;5;241m0\u001b[39m] \u001b[38;5;241m-\u001b[39m \u001b[38;5;241m1\u001b[39m)\n\u001b[1;32m    268\u001b[0m X \u001b[38;5;241m=\u001b[39m np\u001b[38;5;241m.\u001b[39masarray(seed\u001b[38;5;241m.\u001b[39mnormal(size\u001b[38;5;241m=\u001b[39m(q, L\u001b[38;5;241m.\u001b[39mshape[\u001b[38;5;241m0\u001b[39m])))\u001b[38;5;241m.\u001b[39mT\n\u001b[0;32m--> 269\u001b[0m sigma, X \u001b[38;5;241m=\u001b[39m \u001b[43m_tracemin_fiedler\u001b[49m\u001b[43m(\u001b[49m\u001b[43mL\u001b[49m\u001b[43m,\u001b[49m\u001b[43m \u001b[49m\u001b[43mX\u001b[49m\u001b[43m,\u001b[49m\u001b[43m \u001b[49m\u001b[43mnormalized\u001b[49m\u001b[43m,\u001b[49m\u001b[43m \u001b[49m\u001b[43mtol\u001b[49m\u001b[43m,\u001b[49m\u001b[43m \u001b[49m\u001b[43mmethod\u001b[49m\u001b[43m)\u001b[49m\n\u001b[1;32m    270\u001b[0m \u001b[38;5;28;01mreturn\u001b[39;00m sigma[\u001b[38;5;241m0\u001b[39m], X[:, \u001b[38;5;241m0\u001b[39m]\n",
      "File \u001b[0;32m~/utoronto/ehm_dmrg/ehm_dmrg/env_ehm_dmrg/lib/python3.10/site-packages/networkx/linalg/algebraicconnectivity.py:251\u001b[0m, in \u001b[0;36m_tracemin_fiedler\u001b[0;34m(L, X, normalized, tol, method)\u001b[0m\n\u001b[1;32m    247\u001b[0m     \u001b[38;5;28;01mbreak\u001b[39;00m\n\u001b[1;32m    248\u001b[0m \u001b[38;5;66;03m# Compute X = L \\ X / (X' * (L \\ X)).\u001b[39;00m\n\u001b[1;32m    249\u001b[0m \u001b[38;5;66;03m# L \\ X can have an arbitrary projection on the nullspace of L,\u001b[39;00m\n\u001b[1;32m    250\u001b[0m \u001b[38;5;66;03m# which will be eliminated.\u001b[39;00m\n\u001b[0;32m--> 251\u001b[0m W[:, :] \u001b[38;5;241m=\u001b[39m \u001b[43msolver\u001b[49m\u001b[38;5;241;43m.\u001b[39;49m\u001b[43msolve\u001b[49m\u001b[43m(\u001b[49m\u001b[43mX\u001b[49m\u001b[43m,\u001b[49m\u001b[43m \u001b[49m\u001b[43mtol\u001b[49m\u001b[43m)\u001b[49m\n\u001b[1;32m    252\u001b[0m X \u001b[38;5;241m=\u001b[39m (sp\u001b[38;5;241m.\u001b[39mlinalg\u001b[38;5;241m.\u001b[39minv(W\u001b[38;5;241m.\u001b[39mT \u001b[38;5;241m@\u001b[39m X) \u001b[38;5;241m@\u001b[39m W\u001b[38;5;241m.\u001b[39mT)\u001b[38;5;241m.\u001b[39mT  \u001b[38;5;66;03m# Preserves Fortran storage order.\u001b[39;00m\n\u001b[1;32m    253\u001b[0m project(X)\n",
      "File \u001b[0;32m~/utoronto/ehm_dmrg/ehm_dmrg/env_ehm_dmrg/lib/python3.10/site-packages/networkx/linalg/algebraicconnectivity.py:48\u001b[0m, in \u001b[0;36m_PCGSolver.solve\u001b[0;34m(self, B, tol)\u001b[0m\n\u001b[1;32m     46\u001b[0m X \u001b[38;5;241m=\u001b[39m np\u001b[38;5;241m.\u001b[39mndarray(B\u001b[38;5;241m.\u001b[39mshape, order\u001b[38;5;241m=\u001b[39m\u001b[38;5;124m\"\u001b[39m\u001b[38;5;124mF\u001b[39m\u001b[38;5;124m\"\u001b[39m)\n\u001b[1;32m     47\u001b[0m \u001b[38;5;28;01mfor\u001b[39;00m j \u001b[38;5;129;01min\u001b[39;00m \u001b[38;5;28mrange\u001b[39m(B\u001b[38;5;241m.\u001b[39mshape[\u001b[38;5;241m1\u001b[39m]):\n\u001b[0;32m---> 48\u001b[0m     X[:, j] \u001b[38;5;241m=\u001b[39m \u001b[38;5;28;43mself\u001b[39;49m\u001b[38;5;241;43m.\u001b[39;49m\u001b[43m_solve\u001b[49m\u001b[43m(\u001b[49m\u001b[43mB\u001b[49m\u001b[43m[\u001b[49m\u001b[43m:\u001b[49m\u001b[43m,\u001b[49m\u001b[43m \u001b[49m\u001b[43mj\u001b[49m\u001b[43m]\u001b[49m\u001b[43m,\u001b[49m\u001b[43m \u001b[49m\u001b[43mtol\u001b[49m\u001b[43m)\u001b[49m\n\u001b[1;32m     49\u001b[0m \u001b[38;5;28;01mreturn\u001b[39;00m X\n",
      "File \u001b[0;32m~/utoronto/ehm_dmrg/ehm_dmrg/env_ehm_dmrg/lib/python3.10/site-packages/networkx/linalg/algebraicconnectivity.py:66\u001b[0m, in \u001b[0;36m_PCGSolver._solve\u001b[0;34m(self, b, tol)\u001b[0m\n\u001b[1;32m     64\u001b[0m \u001b[38;5;66;03m# Iterate.\u001b[39;00m\n\u001b[1;32m     65\u001b[0m \u001b[38;5;28;01mwhile\u001b[39;00m \u001b[38;5;28;01mTrue\u001b[39;00m:\n\u001b[0;32m---> 66\u001b[0m     Ap \u001b[38;5;241m=\u001b[39m \u001b[43mA\u001b[49m\u001b[43m(\u001b[49m\u001b[43mp\u001b[49m\u001b[43m)\u001b[49m\n\u001b[1;32m     67\u001b[0m     alpha \u001b[38;5;241m=\u001b[39m rz \u001b[38;5;241m/\u001b[39m sp\u001b[38;5;241m.\u001b[39mlinalg\u001b[38;5;241m.\u001b[39mblas\u001b[38;5;241m.\u001b[39mddot(p, Ap)\n\u001b[1;32m     68\u001b[0m     x \u001b[38;5;241m=\u001b[39m sp\u001b[38;5;241m.\u001b[39mlinalg\u001b[38;5;241m.\u001b[39mblas\u001b[38;5;241m.\u001b[39mdaxpy(p, x, a\u001b[38;5;241m=\u001b[39malpha)\n",
      "File \u001b[0;32m~/utoronto/ehm_dmrg/ehm_dmrg/env_ehm_dmrg/lib/python3.10/site-packages/networkx/linalg/algebraicconnectivity.py:216\u001b[0m, in \u001b[0;36m_tracemin_fiedler.<locals>.<lambda>\u001b[0;34m(x)\u001b[0m\n\u001b[1;32m    214\u001b[0m \u001b[38;5;28;01mif\u001b[39;00m method \u001b[38;5;241m==\u001b[39m \u001b[38;5;124m\"\u001b[39m\u001b[38;5;124mtracemin_pcg\u001b[39m\u001b[38;5;124m\"\u001b[39m:\n\u001b[1;32m    215\u001b[0m     D \u001b[38;5;241m=\u001b[39m L\u001b[38;5;241m.\u001b[39mdiagonal()\u001b[38;5;241m.\u001b[39mastype(\u001b[38;5;28mfloat\u001b[39m)\n\u001b[0;32m--> 216\u001b[0m     solver \u001b[38;5;241m=\u001b[39m _PCGSolver(\u001b[38;5;28;01mlambda\u001b[39;00m x: \u001b[43mL\u001b[49m\u001b[43m \u001b[49m\u001b[38;5;241;43m@\u001b[39;49m\u001b[43m \u001b[49m\u001b[43mx\u001b[49m, \u001b[38;5;28;01mlambda\u001b[39;00m x: D \u001b[38;5;241m*\u001b[39m x)\n\u001b[1;32m    217\u001b[0m \u001b[38;5;28;01melif\u001b[39;00m method \u001b[38;5;241m==\u001b[39m \u001b[38;5;124m\"\u001b[39m\u001b[38;5;124mtracemin_lu\u001b[39m\u001b[38;5;124m\"\u001b[39m:\n\u001b[1;32m    218\u001b[0m     \u001b[38;5;66;03m# Convert A to CSC to suppress SparseEfficiencyWarning.\u001b[39;00m\n\u001b[1;32m    219\u001b[0m     A \u001b[38;5;241m=\u001b[39m sp\u001b[38;5;241m.\u001b[39msparse\u001b[38;5;241m.\u001b[39mcsc_array(L, dtype\u001b[38;5;241m=\u001b[39m\u001b[38;5;28mfloat\u001b[39m, copy\u001b[38;5;241m=\u001b[39m\u001b[38;5;28;01mTrue\u001b[39;00m)\n",
      "File \u001b[0;32m~/utoronto/ehm_dmrg/ehm_dmrg/env_ehm_dmrg/lib/python3.10/site-packages/scipy/sparse/_base.py:692\u001b[0m, in \u001b[0;36m_spbase.__matmul__\u001b[0;34m(self, other)\u001b[0m\n\u001b[1;32m    691\u001b[0m \u001b[38;5;28;01mdef\u001b[39;00m \u001b[38;5;21m__matmul__\u001b[39m(\u001b[38;5;28mself\u001b[39m, other):\n\u001b[0;32m--> 692\u001b[0m     \u001b[38;5;28;01mif\u001b[39;00m \u001b[43misscalarlike\u001b[49m\u001b[43m(\u001b[49m\u001b[43mother\u001b[49m\u001b[43m)\u001b[49m:\n\u001b[1;32m    693\u001b[0m         \u001b[38;5;28;01mraise\u001b[39;00m \u001b[38;5;167;01mValueError\u001b[39;00m(\u001b[38;5;124m\"\u001b[39m\u001b[38;5;124mScalar operands are not allowed, \u001b[39m\u001b[38;5;124m\"\u001b[39m\n\u001b[1;32m    694\u001b[0m                          \u001b[38;5;124m\"\u001b[39m\u001b[38;5;124muse \u001b[39m\u001b[38;5;124m'\u001b[39m\u001b[38;5;124m*\u001b[39m\u001b[38;5;124m'\u001b[39m\u001b[38;5;124m instead\u001b[39m\u001b[38;5;124m\"\u001b[39m)\n\u001b[1;32m    695\u001b[0m     \u001b[38;5;28;01mreturn\u001b[39;00m \u001b[38;5;28mself\u001b[39m\u001b[38;5;241m.\u001b[39m_matmul_dispatch(other)\n",
      "File \u001b[0;32m~/utoronto/ehm_dmrg/ehm_dmrg/env_ehm_dmrg/lib/python3.10/site-packages/scipy/sparse/_sputils.py:215\u001b[0m, in \u001b[0;36misscalarlike\u001b[0;34m(x)\u001b[0m\n\u001b[1;32m    213\u001b[0m \u001b[38;5;28;01mdef\u001b[39;00m \u001b[38;5;21misscalarlike\u001b[39m(x) \u001b[38;5;241m-\u001b[39m\u001b[38;5;241m>\u001b[39m \u001b[38;5;28mbool\u001b[39m:\n\u001b[1;32m    214\u001b[0m \u001b[38;5;250m    \u001b[39m\u001b[38;5;124;03m\"\"\"Is x either a scalar, an array scalar, or a 0-dim array?\"\"\"\u001b[39;00m\n\u001b[0;32m--> 215\u001b[0m     \u001b[38;5;28;01mreturn\u001b[39;00m \u001b[43mnp\u001b[49m\u001b[38;5;241;43m.\u001b[39;49m\u001b[43misscalar\u001b[49m\u001b[43m(\u001b[49m\u001b[43mx\u001b[49m\u001b[43m)\u001b[49m \u001b[38;5;129;01mor\u001b[39;00m (isdense(x) \u001b[38;5;129;01mand\u001b[39;00m x\u001b[38;5;241m.\u001b[39mndim \u001b[38;5;241m==\u001b[39m \u001b[38;5;241m0\u001b[39m)\n",
      "File \u001b[0;32m~/utoronto/ehm_dmrg/ehm_dmrg/env_ehm_dmrg/lib/python3.10/site-packages/numpy/core/numeric.py:1933\u001b[0m, in \u001b[0;36misscalar\u001b[0;34m(element)\u001b[0m\n\u001b[1;32m   1855\u001b[0m \u001b[38;5;129m@set_module\u001b[39m(\u001b[38;5;124m'\u001b[39m\u001b[38;5;124mnumpy\u001b[39m\u001b[38;5;124m'\u001b[39m)\n\u001b[1;32m   1856\u001b[0m \u001b[38;5;28;01mdef\u001b[39;00m \u001b[38;5;21misscalar\u001b[39m(element):\n\u001b[1;32m   1857\u001b[0m \u001b[38;5;250m    \u001b[39m\u001b[38;5;124;03m\"\"\"\u001b[39;00m\n\u001b[1;32m   1858\u001b[0m \u001b[38;5;124;03m    Returns True if the type of `element` is a scalar type.\u001b[39;00m\n\u001b[1;32m   1859\u001b[0m \n\u001b[0;32m   (...)\u001b[0m\n\u001b[1;32m   1929\u001b[0m \n\u001b[1;32m   1930\u001b[0m \u001b[38;5;124;03m    \"\"\"\u001b[39;00m\n\u001b[1;32m   1931\u001b[0m     \u001b[38;5;28;01mreturn\u001b[39;00m (\u001b[38;5;28misinstance\u001b[39m(element, generic)\n\u001b[1;32m   1932\u001b[0m             \u001b[38;5;129;01mor\u001b[39;00m \u001b[38;5;28mtype\u001b[39m(element) \u001b[38;5;129;01min\u001b[39;00m ScalarType\n\u001b[0;32m-> 1933\u001b[0m             \u001b[38;5;129;01mor\u001b[39;00m \u001b[38;5;28;43misinstance\u001b[39;49m\u001b[43m(\u001b[49m\u001b[43melement\u001b[49m\u001b[43m,\u001b[49m\u001b[43m \u001b[49m\u001b[43mnumbers\u001b[49m\u001b[38;5;241;43m.\u001b[39;49m\u001b[43mNumber\u001b[49m\u001b[43m)\u001b[49m)\n",
      "\u001b[0;31mKeyboardInterrupt\u001b[0m: "
     ]
    }
   ],
   "source": [
    "# features_dataframe =\n",
    "fcidump_location = Path(fcidump_location)\n",
    "\n",
    "importlib.reload(ehm)\n",
    "importlib.reload(ehm_dmrg)\n",
    "\n",
    "for fcidump_file in fcidump_files:\n",
    "    fcidump_filepath = fcidump_location / Path(fcidump_file)\n",
    "    print(fcidump_filepath)\n",
    "    dmrg_features_one_molecule = ehm.dmrg_features_from_fcidump(\n",
    "        fcidump_filepath=fcidump_filepath,\n",
    "        MOLPRO_ORBSYM=True,\n",
    "        calc_resistance_matrix_properties=calc_resistance_matrix_properties,\n",
    "        verbosity=2,\n",
    "    )\n",
    "    print(dmrg_features_one_molecule)"
   ]
  }
 ],
 "metadata": {
  "kernelspec": {
   "display_name": "env_ehm_dmrg",
   "language": "python",
   "name": "python3"
  },
  "language_info": {
   "codemirror_mode": {
    "name": "ipython",
    "version": 3
   },
   "file_extension": ".py",
   "mimetype": "text/x-python",
   "name": "python",
   "nbconvert_exporter": "python",
   "pygments_lexer": "ipython3",
   "version": "3.10.12"
  }
 },
 "nbformat": 4,
 "nbformat_minor": 2
}
