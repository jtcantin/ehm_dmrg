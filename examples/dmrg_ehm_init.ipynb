{
 "cells": [
  {
   "cell_type": "code",
   "execution_count": 1,
   "metadata": {},
   "outputs": [],
   "source": [
    "import ehm_dmrg.ehm_dmrg as ehm\n",
    "import ehm_dmrg\n",
    "import pandas as pd\n",
    "from pathlib import Path\n",
    "import importlib\n",
    "import ehm_dmrg.dmrg_performance_metrics as dpm\n",
    "import json\n"
   ]
  },
  {
   "cell_type": "code",
   "execution_count": 2,
   "metadata": {},
   "outputs": [],
   "source": [
    "calc_resistance_matrix_properties = True\n",
    "fcidump_location = \"/mnt/d/ZapataCalcs/GSEE/fcidumps_catalysts\"\n",
    "json_feature_storage = \"/mnt/d/OneDrive - University of Toronto/zapata/homogeneous_catalysts_dmrg_results_private/feature_store/initial_catalysts.json\"\n",
    "\n",
    "\n",
    "# datafiles_folder = \"/mnt/d/ZapataCalcs/GSEE/DMRG/DMRG_output_data\"\n",
    "datafiles_folder = \"/mnt/d/OneDrive - University of Toronto/zapata/homogeneous_catalysts_dmrg_results_private/performance_metrics_store\"\n",
    "# datafiles_folder = \"../\"\n",
    "# datafile_name = \"hami_9_data.csv\"\n",
    "\n",
    "# fcidump_files =[\"fcidump.2_co2_6-311++G__\",\"fcidump.36_1ru_II_2pl_{'default' _ '6-31+G(d,p)', 'Ru' _ 'lanl2tz' }\"]\n",
    "fcidump_files = [\n",
    "    # \"fcidump.9_mo_n2-_{'Mo'_ 'def2-TZVP', 'default'_ 'def2-SVP'}\",\n",
    "    # \"fcidump.10_fecp2+_s0.5_def2-tzvp\",\n",
    "    # \"fcidump.11_fecp2_s0_def2-tzvp\",\n",
    "    # \"fcidump.12_mo_n2_{'Mo'_ 'def2-TZVP', 'default'_ 'def2-SVP'}\",\n",
    "    # \"fcidump.20_rc_{'Mo'_ 'def2-SVP', 'I'_ 'def2-SVP', 'Cl'_ 'def2-SVP', 'default'_ '6-311+G(d,p)'}\",\n",
    "    # \"fcidump.21_rc_{'Mo'_ 'def2-SVP', 'I'_ 'def2-SVP', 'Cl'_ 'def2-SVP', 'default'_ '6-311+G(d,p)'}\",\n",
    "    \"fcidump.24_ts_1over2_{'Mo'_ 'def2-SVP', 'I'_ 'def2-SVP', 'Cl'_ 'def2-SVP', 'default'_ '6-311+G(d,p)\",\n",
    "    # \"fcidump.25_ts_1over2_{'Mo'_ 'def2-SVP', 'I'_ 'def2-SVP', 'Cl'_ 'def2-SVP', 'default'_ '6-311+G(d,p)\",\n",
    "    # \"fcidump.26_pc_{'Mo'_ 'def2-SVP', 'I'_ 'def2-SVP', 'Cl'_ 'def2-SVP', 'default'_ '6-311+G(d,p)'}\",\n",
    "    # \"fcidump.27_pc_{'Mo'_ 'def2-SVP', 'I'_ 'def2-SVP', 'Cl'_ 'def2-SVP', 'default'_ '6-311+G(d,p)'}\",\n",
    "    # \"fcidump.28_2_{'Mo'_ 'def2-SVP', 'I'_ 'def2-SVP', 'Cl'_ 'def2-SVP', 'default'_ '6-311+G(d,p)'}\",\n",
    "    # \"fcidump.29_2_{'Mo'_ 'def2-SVP', 'I'_ 'def2-SVP', 'Cl'_ 'def2-SVP', 'default'_ '6-311+G(d,p)'}\",\n",
    "    \"fcidump.30_4a_{'Mo'_ 'def2-SVP', 'I'_ 'def2-SVP', 'Cl'_ 'def2-SVP', 'default'_ '6-311+G(d,p)'}\",\n",
    "    # \"fcidump.31_4a_{'Mo'_ 'def2-SVP', 'I'_ 'def2-SVP', 'Cl'_ 'def2-SVP', 'default'_ '6-311+G(d,p)'}\",\n",
    "]"
   ]
  },
  {
   "cell_type": "code",
   "execution_count": 3,
   "metadata": {},
   "outputs": [
    {
     "name": "stdout",
     "output_type": "stream",
     "text": [
      "/mnt/d/ZapataCalcs/GSEE/fcidumps_catalysts/fcidump.9_mo_n2-_{'Mo'_ 'def2-TZVP', 'default'_ 'def2-SVP'}\n",
      "Parsing /mnt/d/ZapataCalcs/GSEE/fcidumps_catalysts/fcidump.9_mo_n2-_{'Mo'_ 'def2-TZVP', 'default'_ 'def2-SVP'}\n",
      "meta data features: {'num_orbitals': 33, 'num_electrons': 46, 'num_spin_orbitals': 66, 'two_S': 0, 'orbsym': [0, 0, 0, 0, 0, 0, 0, 0, 0, 0, 0, 0, 0, 0, 0, 0, 0, 0, 0, 0, 0, 0, 0, 0, 0, 0, 0, 0, 0, 0, 0, 0, 0], 'isym': 1}\n",
      "one_body_tensor.shape (33, 33)\n",
      "two_body_tensor.shape (33, 33, 33, 33)\n",
      "one_body_tensor.shape (33, 33)\n",
      "two_body_tensor.shape (33, 33, 33, 33)\n",
      "one_and_two_body_tensor.shape (33, 33, 33, 33)\n",
      "num_orbitals 33\n",
      "num_electrons 46\n",
      "Generated tbt matrices, time: 9.5364e-05\n",
      "coulomb_matrix.shape (33, 33)\n",
      "exchange_matrix.shape (33, 33)\n",
      "mean_field_matrix.shape (33, 33)\n",
      "Bandwidth calculation time: 6.0378e-05\n",
      "Coulomb matrix features calculated\n",
      "Coulomb matrix calculation time: 12.926014555\n",
      "Exchange matrix features calculated\n",
      "Exchange matrix calculation time: 0.027373004\n",
      "Mean field matrix features calculated\n",
      "Mean field matrix calculation time: 5.861713898\n",
      "tbt_graph_mapping_calc_time_s 2.688647642\n",
      "tbt_abs_graph_mapping features calculated\n",
      "tbt_abs_graph_mapping_calc_time_s 0.0498407\n",
      "one_body_tensor features calculated\n",
      "one_body_tensor_calc_time_s 1.6083e-05\n",
      "tbt_density_hopping features calculated\n",
      "tbt_density_hopping_calc_time_s 0.000222385\n",
      "tbt features calculated\n",
      "tbt_calc_time_s 0.006001614\n",
      "{'hamiltonian_id': \"fcidump.9_mo_n2-_{'Mo'_ 'def2-TZVP', 'default'_ 'def2-SVP'}\", 'num_orbitals': 33, 'num_electrons': 46, 'num_spin_orbitals': 66, 'two_S': 0, 'orbsym': [0, 0, 0, 0, 0, 0, 0, 0, 0, 0, 0, 0, 0, 0, 0, 0, 0, 0, 0, 0, 0, 0, 0, 0, 0, 0, 0, 0, 0, 0, 0, 0, 0], 'isym': 1, 'total_num_states': 4.066117082491463e+16, 'log10_hilbert_space_size': 16.609179879847492, 'tbt_matrices_calc_time_s': 9.5364e-05, 'bandwidth_calc_time_s': 6.0378e-05, 'coulomb_matrix_bandwidth_upper': 32, 'coulomb_matrix_bandwidth_lower': 32, 'exchange_matrix_bandwidth_upper': 32, 'exchange_matrix_bandwidth_lower': 32, 'mean_field_matrix_bandwidth_upper': 32, 'mean_field_matrix_bandwidth_lower': 32, 'coulomb_calc_time_s': 12.926014555, 'coulomb_matrix_algebraic_connectivity': 7.286222071479503, 'coulomb_matrix_transitivity': 1.0, 'coulomb_matrix_edgeCount': 561, 'coulomb_matrix_graph_creation_time': 0.002205587, 'coulomb_matrix_algebraic_connectivity_calc_time_s': 12.914675572, 'coulomb_matrix_transitivity_calc_time_s': 0.003214997, 'coulomb_matrix_specA_min': -8.090995222604569, 'coulomb_matrix_specA_Q2': 0.019969401415393922, 'coulomb_matrix_specA_max': 2.163684169905501, 'coulomb_matrix_specA_mean': -0.09471072866336123, 'coulomb_matrix_specA_std': 1.47082276768586, 'coulomb_matrix_specA_coeff_variation': -15.52963205376381, 'coulomb_matrix_specA_power_spectral_entropy': 4.949995616976683, 'coulomb_matrix_specA_calc_time_s': 0.001716409, 'coulomb_matrix_specA_stat_calc_time_s': 0.000554937, 'coulomb_matrix_specL_min': -10.49757977575918, 'coulomb_matrix_specL_Q2': -8.033634905734882, 'coulomb_matrix_specL_max': 1.7763568394002505e-15, 'coulomb_matrix_specL_mean': -7.946233337763915, 'coulomb_matrix_specL_std': 1.601231016819891, 'coulomb_matrix_specL_coeff_variation': -0.2015081798831848, 'coulomb_matrix_specL_power_spectral_entropy': 0.4318424256232777, 'coulomb_matrix_specL_calc_time_s': 0.001771747, 'coulomb_matrix_specL_stat_calc_time_s': 0.000154858, 'coulomb_matrix_specR_min': -7.8873199862382695, 'coulomb_matrix_specR_Q2': 0.24878298326708767, 'coulomb_matrix_specR_max': 0.28760425786188487, 'coulomb_matrix_specR_mean': 2.556877268833694e-16, 'coulomb_matrix_specR_std': 1.3944555357309034, 'coulomb_matrix_specR_coeff_variation': 3920448838506445.5, 'coulomb_matrix_specR_power_spectral_entropy': 4.999675760739818, 'coulomb_matrix_specR_calc_time_s': 0.001507023, 'coulomb_matrix_specR_stat_calc_time_s': 0.000134683, 'exchange_calc_time_s': 0.027373004, 'exchange_matrix_algebraic_connectivity': 0.15823489982473654, 'exchange_matrix_transitivity': 1.0, 'exchange_matrix_edgeCount': 561, 'exchange_matrix_graph_creation_time': 0.001519623, 'exchange_matrix_algebraic_connectivity_calc_time_s': 0.019165123, 'exchange_matrix_transitivity_calc_time_s': 0.00262778, 'exchange_matrix_specA_min': -0.396309249775849, 'exchange_matrix_specA_Q2': -0.13925801229680956, 'exchange_matrix_specA_max': 0.4757836664898717, 'exchange_matrix_specA_mean': -0.0947107286633613, 'exchange_matrix_specA_std': 0.1897555499721378, 'exchange_matrix_specA_coeff_variation': -2.0035275058077424, 'exchange_matrix_specA_power_spectral_entropy': 3.7956097196313516, 'exchange_matrix_specA_calc_time_s': 0.000887616, 'exchange_matrix_specA_stat_calc_time_s': 0.000198402, 'exchange_matrix_specL_min': -4.1884989628454527e-16, 'exchange_matrix_specL_Q2': 0.5337175772925247, 'exchange_matrix_specL_max': 0.9439420312173635, 'exchange_matrix_specL_mean': 0.5075842319784577, 'exchange_matrix_specL_std': 0.20570344243137956, 'exchange_matrix_specL_coeff_variation': 0.4052597174454975, 'exchange_matrix_specL_power_spectral_entropy': 1.1303392950746918, 'exchange_matrix_specL_calc_time_s': 0.001077341, 'exchange_matrix_specL_stat_calc_time_s': 0.000140799, 'exchange_matrix_specR_min': -12.679841663856857, 'exchange_matrix_specR_Q2': -3.678041590298103, 'exchange_matrix_specR_max': 147.41668870193377, 'exchange_matrix_specR_mean': 4.65620807903399e-15, 'exchange_matrix_specR_std': 26.161717371742228, 'exchange_matrix_specR_coeff_variation': 5500540963938610.0, 'exchange_matrix_specR_power_spectral_entropy': 4.9924616281987, 'exchange_matrix_specR_calc_time_s': 0.001464352, 'exchange_matrix_specR_stat_calc_time_s': 0.000210352, 'mean_field_calc_time_s': 5.861713898, 'mean_field_matrix_algebraic_connectivity': 14.881783879017798, 'mean_field_matrix_transitivity': 1.0, 'mean_field_matrix_edgeCount': 561, 'mean_field_matrix_graph_creation_time': 0.001705588, 'mean_field_matrix_algebraic_connectivity_calc_time_s': 5.85244797, 'mean_field_matrix_transitivity_calc_time_s': 0.002664331, 'mean_field_matrix_specA_min': -16.60145283347851, 'mean_field_matrix_specA_Q2': 0.22348422700297135, 'mean_field_matrix_specA_max': 3.9960996690495874, 'mean_field_matrix_specA_mean': -0.09471072866336175, 'mean_field_matrix_specA_std': 3.006044032513082, 'mean_field_matrix_specA_coeff_variation': -31.739213444315464, 'mean_field_matrix_specA_power_spectral_entropy': 4.940487620350866, 'mean_field_matrix_specA_calc_time_s': 0.001026101, 'mean_field_matrix_specA_stat_calc_time_s': 0.0002085, 'mean_field_matrix_specL_min': -21.267128774113523, 'mean_field_matrix_specL_Q2': -16.6279333264074, 'mean_field_matrix_specL_max': 1.0658141036401503e-14, 'mean_field_matrix_specL_mean': -16.40005090750629, 'mean_field_matrix_specL_std': 3.294521681145999, 'mean_field_matrix_specL_coeff_variation': -0.2008848447926524, 'mean_field_matrix_specL_power_spectral_entropy': 0.42926610099531726, 'mean_field_matrix_specL_calc_time_s': 0.001487454, 'mean_field_matrix_specL_stat_calc_time_s': 0.000188077, 'mean_field_matrix_specR_min': -3.821586935809742, 'mean_field_matrix_specR_Q2': 0.11950373114069587, 'mean_field_matrix_specR_max': 0.13895170776981874, 'mean_field_matrix_specR_mean': 1.215357780744963e-16, 'mean_field_matrix_specR_std': 0.6756464624705611, 'mean_field_matrix_specR_coeff_variation': 3049830001921225.5, 'mean_field_matrix_specR_power_spectral_entropy': 4.999626203276065, 'mean_field_matrix_specR_calc_time_s': 0.001691113, 'mean_field_matrix_specR_stat_calc_time_s': 0.000188379, 'tbt_graph_mapping_calc_time_s': 2.688647642, 'tbt_abs_graph_mapping_calc_time_s': 0.0498407, 'tbt_abs_graph_mapping_algebraic_connectivity': 97.48803213514664, 'tbt_abs_graph_mapping_transitivity': 1.0, 'tbt_abs_graph_mapping_edgeCount': 561, 'tbt_abs_graph_mapping_graph_creation_time': 0.001545764, 'tbt_abs_graph_mapping_algebraic_connectivity_calc_time_s': 0.041853291, 'tbt_abs_graph_mapping_transitivity_calc_time_s': 0.002541956, 'tbt_abs_graph_mapping_specA_min': 5.564956973964999, 'tbt_abs_graph_mapping_specA_Q2': 20.375149200031046, 'tbt_abs_graph_mapping_specA_max': 212.59594062032113, 'tbt_abs_graph_mapping_specA_mean': 30.812250943023102, 'tbt_abs_graph_mapping_specA_std': 35.787798977817275, 'tbt_abs_graph_mapping_specA_coeff_variation': 1.1614795376032336, 'tbt_abs_graph_mapping_specA_power_spectral_entropy': 3.6864179682104283, 'tbt_abs_graph_mapping_specA_calc_time_s': 0.000886758, 'tbt_abs_graph_mapping_specA_stat_calc_time_s': 0.000228507, 'tbt_abs_graph_mapping_specL_min': -8.526512829128479e-14, 'tbt_abs_graph_mapping_specL_Q2': 176.58190422062782, 'tbt_abs_graph_mapping_specL_max': 257.7064946652772, 'tbt_abs_graph_mapping_specL_mean': 174.57244895413237, 'tbt_abs_graph_mapping_specL_std': 50.16430991278041, 'tbt_abs_graph_mapping_specL_coeff_variation': 0.2873552511482537, 'tbt_abs_graph_mapping_specL_power_spectral_entropy': 0.7138226881225189, 'tbt_abs_graph_mapping_specL_calc_time_s': 0.001073992, 'tbt_abs_graph_mapping_specL_stat_calc_time_s': 0.000138784, 'tbt_abs_graph_mapping_specR_min': -0.02292011083119329, 'tbt_abs_graph_mapping_specR_Q2': -0.011326188833537698, 'tbt_abs_graph_mapping_specR_max': 0.37944491228125243, 'tbt_abs_graph_mapping_specR_mean': -8.200510977344907e-18, 'tbt_abs_graph_mapping_specR_std': 0.0671485022597554, 'tbt_abs_graph_mapping_specR_coeff_variation': 731469237733817.8, 'tbt_abs_graph_mapping_specR_power_spectral_entropy': 4.997767137813296, 'tbt_abs_graph_mapping_specR_calc_time_s': 0.001368806, 'tbt_abs_graph_mapping_specR_stat_calc_time_s': 0.000130844, 'one_body_tensor_calc_time_s': 1.6083e-05, 'one_body_tensor_bandwidth_upper': 32, 'one_body_tensor_bandwidth_lower': 32, 'density_hopping_tensor_mean': -0.007415124086155195, 'density_hopping_tensor_std': 0.04536568659542491, 'density_hopping_tensor_max': 0.2672859426606681, 'density_hopping_tensor_min': -0.4194895531161136, 'density_hopping_tensor_coeff_variation': -6.117994259884074, 'density_hopping_tensor_inv_coeff_variation': -0.16345226188868014, 'density_hopping_tensor_sum_abs': 427.3292923720182, 'tbt_density_hopping_calc_time_s': 0.000222385, 'tbt_mean': -0.0001814610472196701, 'tbt_std': 0.008871716118883382, 'tbt_max': 0.2672859426606681, 'tbt_min': -0.4194895531161136, 'tbt_coeff_variation': -48.890471287474696, 'tbt_inv_coeff_variation': -0.02045388341871417, 'tbt_calc_time_s': 0.006001614}\n",
      "/mnt/d/ZapataCalcs/GSEE/fcidumps_catalysts/fcidump.10_fecp2+_s0.5_def2-tzvp\n",
      "Parsing /mnt/d/ZapataCalcs/GSEE/fcidumps_catalysts/fcidump.10_fecp2+_s0.5_def2-tzvp\n",
      "meta data features: {'num_orbitals': 46, 'num_electrons': 57, 'num_spin_orbitals': 92, 'two_S': 1, 'orbsym': [0, 0, 0, 0, 0, 0, 0, 0, 0, 0, 0, 0, 0, 0, 0, 0, 0, 0, 0, 0, 0, 0, 0, 0, 0, 0, 0, 0, 0, 0, 0, 0, 0, 0, 0, 0, 0, 0, 0, 0, 0, 0, 0, 0, 0, 0], 'isym': 1}\n",
      "one_body_tensor.shape (46, 46)\n",
      "two_body_tensor.shape (46, 46, 46, 46)\n",
      "one_body_tensor.shape (46, 46)\n",
      "two_body_tensor.shape (46, 46, 46, 46)\n",
      "one_and_two_body_tensor.shape (46, 46, 46, 46)\n",
      "num_orbitals 46\n",
      "num_electrons 57\n",
      "Generated tbt matrices, time: 0.000175236\n",
      "coulomb_matrix.shape (46, 46)\n",
      "exchange_matrix.shape (46, 46)\n",
      "mean_field_matrix.shape (46, 46)\n",
      "Bandwidth calculation time: 2.7569e-05\n",
      "Coulomb matrix features calculated\n",
      "Coulomb matrix calculation time: 1.886829049\n",
      "Exchange matrix features calculated\n",
      "Exchange matrix calculation time: 0.988962312\n",
      "Mean field matrix features calculated\n",
      "Mean field matrix calculation time: 2.057525538\n"
     ]
    },
    {
     "ename": "KeyboardInterrupt",
     "evalue": "",
     "output_type": "error",
     "traceback": [
      "\u001b[0;31m---------------------------------------------------------------------------\u001b[0m",
      "\u001b[0;31mKeyboardInterrupt\u001b[0m                         Traceback (most recent call last)",
      "Cell \u001b[0;32mIn[3], line 16\u001b[0m\n\u001b[1;32m     13\u001b[0m dmrg_features_one_molecule\u001b[38;5;241m=\u001b[39m{}\n\u001b[1;32m     14\u001b[0m dmrg_features_one_molecule[\u001b[38;5;124m\"\u001b[39m\u001b[38;5;124mhamiltonian_id\u001b[39m\u001b[38;5;124m\"\u001b[39m] \u001b[38;5;241m=\u001b[39m fcidump_file\n\u001b[0;32m---> 16\u001b[0m dmrg_features_one_molecule_new \u001b[38;5;241m=\u001b[39m \u001b[43mehm\u001b[49m\u001b[38;5;241;43m.\u001b[39;49m\u001b[43mdmrg_features_from_fcidump\u001b[49m\u001b[43m(\u001b[49m\n\u001b[1;32m     17\u001b[0m \u001b[43m    \u001b[49m\u001b[43mfcidump_filepath\u001b[49m\u001b[38;5;241;43m=\u001b[39;49m\u001b[43mfcidump_filepath\u001b[49m\u001b[43m,\u001b[49m\n\u001b[1;32m     18\u001b[0m \u001b[43m    \u001b[49m\u001b[43mMOLPRO_ORBSYM\u001b[49m\u001b[38;5;241;43m=\u001b[39;49m\u001b[38;5;28;43;01mTrue\u001b[39;49;00m\u001b[43m,\u001b[49m\n\u001b[1;32m     19\u001b[0m \u001b[43m    \u001b[49m\u001b[43mcalc_resistance_matrix_properties\u001b[49m\u001b[38;5;241;43m=\u001b[39;49m\u001b[43mcalc_resistance_matrix_properties\u001b[49m\u001b[43m,\u001b[49m\n\u001b[1;32m     20\u001b[0m \u001b[43m    \u001b[49m\u001b[43mverbosity\u001b[49m\u001b[38;5;241;43m=\u001b[39;49m\u001b[38;5;241;43m1\u001b[39;49m\u001b[43m,\u001b[49m\n\u001b[1;32m     21\u001b[0m \u001b[43m\u001b[49m\u001b[43m)\u001b[49m\n\u001b[1;32m     22\u001b[0m dmrg_features_one_molecule\u001b[38;5;241m.\u001b[39mupdate(dmrg_features_one_molecule_new)\n\u001b[1;32m     23\u001b[0m \u001b[38;5;28mprint\u001b[39m(dmrg_features_one_molecule)\n",
      "File \u001b[0;32m~/utoronto/ehm_dmrg/ehm_dmrg/src/ehm_dmrg/ehm_dmrg.py:49\u001b[0m, in \u001b[0;36mdmrg_features_from_fcidump\u001b[0;34m(fcidump_filepath, MOLPRO_ORBSYM, calc_resistance_matrix_properties, verbosity)\u001b[0m\n\u001b[1;32m     46\u001b[0m \u001b[38;5;28;01mif\u001b[39;00m verbosity \u001b[38;5;241m>\u001b[39m \u001b[38;5;241m0\u001b[39m:\n\u001b[1;32m     47\u001b[0m     \u001b[38;5;28mprint\u001b[39m(\u001b[38;5;124m\"\u001b[39m\u001b[38;5;124mmeta data features:\u001b[39m\u001b[38;5;124m\"\u001b[39m, feature_dict)\n\u001b[0;32m---> 49\u001b[0m tensors_features_dict \u001b[38;5;241m=\u001b[39m \u001b[43mdmrg_features\u001b[49m\u001b[38;5;241;43m.\u001b[39;49m\u001b[43mget_dmrg_features\u001b[49m\u001b[43m(\u001b[49m\n\u001b[1;32m     50\u001b[0m \u001b[43m    \u001b[49m\u001b[43mone_body_tensor\u001b[49m\u001b[38;5;241;43m=\u001b[39;49m\u001b[43mone_body_tensor\u001b[49m\u001b[43m,\u001b[49m\n\u001b[1;32m     51\u001b[0m \u001b[43m    \u001b[49m\u001b[43mtwo_body_tensor\u001b[49m\u001b[38;5;241;43m=\u001b[39;49m\u001b[43mtwo_body_tensor\u001b[49m\u001b[43m,\u001b[49m\n\u001b[1;32m     52\u001b[0m \u001b[43m    \u001b[49m\u001b[43mnum_electrons\u001b[49m\u001b[38;5;241;43m=\u001b[39;49m\u001b[43mnum_electrons\u001b[49m\u001b[43m,\u001b[49m\n\u001b[1;32m     53\u001b[0m \u001b[43m    \u001b[49m\u001b[38;5;66;43;03m# spin_orbitals_bool=True,\u001b[39;49;00m\n\u001b[1;32m     54\u001b[0m \u001b[43m    \u001b[49m\u001b[38;5;66;43;03m# tbt_one_half_convention=True,\u001b[39;49;00m\n\u001b[1;32m     55\u001b[0m \u001b[43m    \u001b[49m\u001b[43mcalc_resistance_matrix_properties\u001b[49m\u001b[38;5;241;43m=\u001b[39;49m\u001b[43mcalc_resistance_matrix_properties\u001b[49m\u001b[43m,\u001b[49m\n\u001b[1;32m     56\u001b[0m \u001b[43m    \u001b[49m\u001b[43mverbosity\u001b[49m\u001b[38;5;241;43m=\u001b[39;49m\u001b[43mverbosity\u001b[49m\u001b[43m,\u001b[49m\n\u001b[1;32m     57\u001b[0m \u001b[43m\u001b[49m\u001b[43m)\u001b[49m\n\u001b[1;32m     59\u001b[0m feature_dict\u001b[38;5;241m.\u001b[39mupdate(tensors_features_dict)\n\u001b[1;32m     61\u001b[0m \u001b[38;5;28;01mreturn\u001b[39;00m feature_dict\n",
      "File \u001b[0;32m~/utoronto/ehm_dmrg/ehm_dmrg/src/ehm_dmrg/dmrg_features.py:234\u001b[0m, in \u001b[0;36mget_dmrg_features\u001b[0;34m(one_body_tensor, two_body_tensor, num_electrons, calc_resistance_matrix_properties, verbosity)\u001b[0m\n\u001b[1;32m    232\u001b[0m \u001b[38;5;66;03m# Various properties of the absolute version of the two-body tensor to graph mapping\u001b[39;00m\n\u001b[1;32m    233\u001b[0m tbt_graph_mapping_start \u001b[38;5;241m=\u001b[39m time\u001b[38;5;241m.\u001b[39mprocess_time_ns()\n\u001b[0;32m--> 234\u001b[0m tbt_abs_graph_mapping \u001b[38;5;241m=\u001b[39m \u001b[43mgm\u001b[49m\u001b[38;5;241;43m.\u001b[39;49m\u001b[43mget_tbt_graph_adjacency_matrix_abs_element\u001b[49m\u001b[43m(\u001b[49m\n\u001b[1;32m    235\u001b[0m \u001b[43m    \u001b[49m\u001b[43mone_and_two_body_tensor\u001b[49m\u001b[43m,\u001b[49m\u001b[43m \u001b[49m\u001b[43mthreshold\u001b[49m\u001b[38;5;241;43m=\u001b[39;49m\u001b[38;5;241;43m1e-8\u001b[39;49m\n\u001b[1;32m    236\u001b[0m \u001b[43m\u001b[49m\u001b[43m)\u001b[49m\n\u001b[1;32m    237\u001b[0m tbt_graph_mapping_end \u001b[38;5;241m=\u001b[39m time\u001b[38;5;241m.\u001b[39mprocess_time_ns()\n\u001b[1;32m    238\u001b[0m feature_dict[\u001b[38;5;124m\"\u001b[39m\u001b[38;5;124mtbt_graph_mapping_calc_time_s\u001b[39m\u001b[38;5;124m\"\u001b[39m] \u001b[38;5;241m=\u001b[39m (\n\u001b[1;32m    239\u001b[0m     tbt_graph_mapping_end \u001b[38;5;241m-\u001b[39m tbt_graph_mapping_start\n\u001b[1;32m    240\u001b[0m ) \u001b[38;5;241m/\u001b[39m \u001b[38;5;241m1e9\u001b[39m\n",
      "File \u001b[0;32m~/utoronto/ehm_dmrg/ehm_dmrg/src/ehm_dmrg/graph_mapping.py:72\u001b[0m, in \u001b[0;36mget_tbt_graph_adjacency_matrix_abs_element\u001b[0;34m(tbt_tensor, threshold)\u001b[0m\n\u001b[1;32m     70\u001b[0m element \u001b[38;5;241m=\u001b[39m tbt_tensor[iiter, jiter, kiter, liter]\n\u001b[1;32m     71\u001b[0m \u001b[38;5;66;03m# Use abs to get sense of connection strength without interference effects\u001b[39;00m\n\u001b[0;32m---> 72\u001b[0m abs_element \u001b[38;5;241m=\u001b[39m \u001b[38;5;28;43mabs\u001b[39;49m\u001b[43m(\u001b[49m\u001b[43melement\u001b[49m\u001b[43m)\u001b[49m\n\u001b[1;32m     73\u001b[0m adjacency_matrix[iiter, jiter] \u001b[38;5;241m+\u001b[39m\u001b[38;5;241m=\u001b[39m abs_element\n\u001b[1;32m     74\u001b[0m adjacency_matrix[jiter, kiter] \u001b[38;5;241m+\u001b[39m\u001b[38;5;241m=\u001b[39m abs_element\n",
      "\u001b[0;31mKeyboardInterrupt\u001b[0m: "
     ]
    }
   ],
   "source": [
    "# features_dataframe =\n",
    "fcidump_location = Path(fcidump_location)\n",
    "\n",
    "importlib.reload(ehm)\n",
    "importlib.reload(ehm_dmrg)\n",
    "\n",
    "dmrg_features_molecules_list = []\n",
    "for fcidump_file in fcidump_files:\n",
    "    fcidump_filepath = fcidump_location / Path(fcidump_file)\n",
    "    print(fcidump_filepath)\n",
    "\n",
    "    \n",
    "    dmrg_features_one_molecule={}\n",
    "    dmrg_features_one_molecule[\"hamiltonian_id\"] = fcidump_file\n",
    "\n",
    "    dmrg_features_one_molecule_new = ehm.dmrg_features_from_fcidump(\n",
    "        fcidump_filepath=fcidump_filepath,\n",
    "        MOLPRO_ORBSYM=True,\n",
    "        calc_resistance_matrix_properties=calc_resistance_matrix_properties,\n",
    "        verbosity=1,\n",
    "    )\n",
    "    dmrg_features_one_molecule.update(dmrg_features_one_molecule_new)\n",
    "    print(dmrg_features_one_molecule)\n",
    "    \n",
    "    with open(json_feature_storage, \"a\") as file:\n",
    "            file.write(json.dumps(dmrg_features_one_molecule))  # use `json.loads` to do the reverse\n",
    "            file.write(\"\\n\")\n",
    "    dmrg_features_molecules_list.append(dmrg_features_one_molecule)"
   ]
  },
  {
   "cell_type": "code",
   "execution_count": null,
   "metadata": {},
   "outputs": [],
   "source": [
    "ml_features_df = pd.DataFrame(dmrg_features_molecules_list)\n",
    "ml_features_df"
   ]
  },
  {
   "cell_type": "code",
   "execution_count": null,
   "metadata": {},
   "outputs": [],
   "source": [
    "\n",
    "\n",
    "datafiles_folder_path = Path(datafiles_folder)\n",
    "# dpm.load_dmrg_output_data(datafile_path=datafiles_folder_path/datafile_name)\n",
    "csv_file_list = [f\"{file}.csv\" for file in fcidump_files]\n",
    "(\n",
    "        id_list,\n",
    "        coarse_bond_dimension_list,\n",
    "        total_loops_cpu_time_sec_list,\n",
    "        total_loops_wall_time_sec_list,\n",
    "    ) = dpm.get_coarse_bond_dimension_needed_many_files(\n",
    "    csv_file_list=csv_file_list, folder_path=datafiles_folder_path, energy_change_threshold_hartrees=1e-3\n",
    ")\n",
    "print(id_list, coarse_bond_dimension_list)\n",
    "\n",
    "\n",
    "# performance_metrics_dictionary = [{\"hamiltonian_id\":id, \"coarse_bond_dimension\":coarse_bond_dimension, t} for id, coarse_bond_dimension in zip(id_list, coarse_bond_dimension_list)]\n",
    "performance_metrics_dictionary = [{\"hamiltonian_id\":id, \"coarse_bond_dimension\":coarse_bond_dimension, \"total_loops_cpu_time_sec\":total_loops_cpu_time_sec, \"total_loops_wall_time_sec\":total_loops_wall_time_sec} for id, coarse_bond_dimension, total_loops_cpu_time_sec, total_loops_wall_time_sec in zip(id_list, coarse_bond_dimension_list, total_loops_cpu_time_sec_list, total_loops_wall_time_sec_list)]\n",
    "performance_metrics_df = pd.DataFrame(performance_metrics_dictionary)\n",
    "performance_metrics_df"
   ]
  },
  {
   "cell_type": "code",
   "execution_count": null,
   "metadata": {},
   "outputs": [],
   "source": [
    "# Combine the two dataframes\n",
    "combined_df = pd.merge(ml_features_df, performance_metrics_df, on=\"hamiltonian_id\")"
   ]
  },
  {
   "cell_type": "code",
   "execution_count": null,
   "metadata": {},
   "outputs": [],
   "source": [
    "combined_df"
   ]
  }
 ],
 "metadata": {
  "kernelspec": {
   "display_name": "env_ehm_dmrg",
   "language": "python",
   "name": "python3"
  },
  "language_info": {
   "codemirror_mode": {
    "name": "ipython",
    "version": 3
   },
   "file_extension": ".py",
   "mimetype": "text/x-python",
   "name": "python",
   "nbconvert_exporter": "python",
   "pygments_lexer": "ipython3",
   "version": "3.10.12"
  }
 },
 "nbformat": 4,
 "nbformat_minor": 2
}
